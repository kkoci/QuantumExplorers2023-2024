{
 "cells": [
  {
   "cell_type": "code",
   "execution_count": 2,
   "id": "96434b7e-a809-4309-991d-88d259cfbc7f",
   "metadata": {
    "tags": []
   },
   "outputs": [],
   "source": [
    "# Import necessary libraries for quantum circuit creation and simulation\n",
    "from qiskit import QuantumCircuit, Aer, execute\n",
    "from qiskit.visualization import plot_histogram"
   ]
  },
  {
   "cell_type": "code",
   "execution_count": 3,
   "id": "c65a631d-fb76-45ad-b214-10dd1ea75852",
   "metadata": {
    "tags": []
   },
   "outputs": [],
   "source": [
    "def roll_dice():\n",
    "    # Create a quantum circuit with 4 qubits\n",
    "    qc = QuantumCircuit(4)\n",
    "\n",
    "    # Apply quantum gates to create the desired circuit\n",
    "    qc.h(0)  # Hadamard gate on qubit 0\n",
    "    qc.x(1)  # X gate on qubit 1\n",
    "    qc.cx(0, 1)  # Controlled-NOT gate between qubits 0 and 1\n",
    "    qc.ry(0.5, 0)  # Rotate qubit 0 around the Y-axis by 0.5 radians\n",
    "    qc.toffoli(0, 1, 2)  # Toffoli (controlled-controlled-NOT) gate\n",
    "    qc.z(3)  # Pauli-Z gate on qubit 3\n",
    "\n",
    "    # Measure all qubits to obtain classical outcomes\n",
    "    qc.measure_all()\n",
    "\n",
    "    # Simulate the circuit using the Aer simulator\n",
    "    backend = Aer.get_backend('aer_simulator')\n",
    "    job = execute(qc, backend, shots=1000)  # Run 1000 simulations\n",
    "    result = job.result()\n",
    "    counts = result.get_counts(qc)  # Retrieve measurement results\n",
    "\n",
    "    return counts  # Return the counts for further processing"
   ]
  },
  {
   "cell_type": "code",
   "execution_count": 4,
   "id": "21b261f1-3798-4d19-9265-9e9c8cc6a261",
   "metadata": {
    "tags": []
   },
   "outputs": [
    {
     "name": "stdout",
     "output_type": "stream",
     "text": [
      "{'0111': 42, '0000': 30, '0010': 476, '0001': 452}\n"
     ]
    },
    {
     "data": {
      "image/png": "[encoded data removed]",
      "text/plain": [
       "<Figure size 700x500 with 1 Axes>"
      ]
     },
     "execution_count": 4,
     "metadata": {},
     "output_type": "execute_result"
    }
   ],
   "source": [
    "# Call the roll_dice function to simulate the quantum dice roll\n",
    "counts = roll_dice()\n",
    "\n",
    "# Print the measured outcomes in a dictionary format\n",
    "print(counts)\n",
    "\n",
    "# Visualize the results as a histogram\n",
    "plot_histogram(counts)  # Display a graphical representation of the counts"
   ]
  },
  {
   "cell_type": "code",
   "execution_count": null,
   "id": "10609d7c-25e1-4715-9c91-b9e06ec37397",
   "metadata": {},
   "outputs": [],
   "source": []
  }
 ],
 "metadata": {
  "kernelspec": {
   "display_name": "Python 3 (ipykernel)",
   "language": "python",
   "name": "python3"
  },
  "language_info": {
   "codemirror_mode": {
    "name": "ipython",
    "version": 3
   },
   "file_extension": ".py",
   "mimetype": "text/x-python",
   "name": "python",
   "nbconvert_exporter": "python",
   "pygments_lexer": "ipython3",
   "version": "3.10.8"
  },
  "widgets": {
   "application/vnd.jupyter.widget-state+json": {
    "state": {
     "111040440b7c45c18c18e6ab3947160d": {
      "model_module": "@jupyter-widgets/base",
      "model_module_version": "2.0.0",
      "model_name": "LayoutModel",
      "state": {
       "margin": "0px 0px 10px 0px"
      }
     },
     "12ad6ac6e8834211a1b4e05cb207e8b9": {
      "model_module": "@jupyter-widgets/controls",
      "model_module_version": "2.0.0",
      "model_name": "ButtonStyleModel",
      "state": {
       "font_family": null,
       "font_size": null,
       "font_style": null,
       "font_variant": null,
       "font_weight": null,
       "text_color": null,
       "text_decoration": null
      }
     },
     "1a024bfd1e5d4c06ae185d4e5f932472": {
      "model_module": "@jupyter-widgets/base",
      "model_module_version": "2.0.0",
      "model_name": "LayoutModel",
      "state": {
       "width": "190px"
      }
     },
     "1eb5a4e24692418cb35736527de39e43": {
      "model_module": "@jupyter-widgets/base",
      "model_module_version": "2.0.0",
      "model_name": "LayoutModel",
      "state": {
       "width": "70px"
      }
     },
     "2efa1bcfa94346c395c7d416cc1715b5": {
      "model_module": "@jupyter-widgets/controls",
      "model_module_version": "2.0.0",
      "model_name": "HBoxModel",
      "state": {
       "children": [
        "IPY_MODEL_305192cf8c6c4518979ebc87bf7298e5",
        "IPY_MODEL_47ef1156e9264f7384abb482723efeb8",
        "IPY_MODEL_52dfbc86636a4a738481668a70a5b9b3",
        "IPY_MODEL_54917228d6144cb0b3c84d872f88ff11",
        "IPY_MODEL_e607886daea349949e01e29a8975d467"
       ],
       "layout": "IPY_MODEL_5dd8e9aac66949109c8294be86094991"
      }
     },
     "2fcc3f0a610f485792529a8c02b2f491": {
      "model_module": "@jupyter-widgets/base",
      "model_module_version": "2.0.0",
      "model_name": "LayoutModel",
      "state": {
       "grid_area": "right",
       "padding": "0px 0px 0px 0px",
       "width": "70px"
      }
     },
     "305192cf8c6c4518979ebc87bf7298e5": {
      "model_module": "@jupyter-widgets/controls",
      "model_module_version": "2.0.0",
      "model_name": "HTMLModel",
      "state": {
       "layout": "IPY_MODEL_1a024bfd1e5d4c06ae185d4e5f932472",
       "style": "IPY_MODEL_98c9c984d1704f708bd660c7fc8aa772",
       "value": "<h5>Job ID</h5>"
      }
     },
     "4453eff3dadd4f08b93ab5bddb85bc3b": {
      "model_module": "@jupyter-widgets/base",
      "model_module_version": "2.0.0",
      "model_name": "LayoutModel",
      "state": {
       "width": "95px"
      }
     },
     "47ef1156e9264f7384abb482723efeb8": {
      "model_module": "@jupyter-widgets/controls",
      "model_module_version": "2.0.0",
      "model_name": "HTMLModel",
      "state": {
       "layout": "IPY_MODEL_e6c9defa1a1a45929a65377fd3f8de18",
       "style": "IPY_MODEL_99c3a532cba8483e8ed03c6579923abe",
       "value": "<h5>Backend</h5>"
      }
     },
     "52dfbc86636a4a738481668a70a5b9b3": {
      "model_module": "@jupyter-widgets/controls",
      "model_module_version": "2.0.0",
      "model_name": "HTMLModel",
      "state": {
       "layout": "IPY_MODEL_4453eff3dadd4f08b93ab5bddb85bc3b",
       "style": "IPY_MODEL_8ed4c4cdb54b449a89d1d08b1d584ce1",
       "value": "<h5>Status</h5>"
      }
     },
     "54917228d6144cb0b3c84d872f88ff11": {
      "model_module": "@jupyter-widgets/controls",
      "model_module_version": "2.0.0",
      "model_name": "HTMLModel",
      "state": {
       "layout": "IPY_MODEL_1eb5a4e24692418cb35736527de39e43",
       "style": "IPY_MODEL_a071fe20401942e8a82219bf231ea451",
       "value": "<h5>Queue</h5>"
      }
     },
     "5dd8e9aac66949109c8294be86094991": {
      "model_module": "@jupyter-widgets/base",
      "model_module_version": "2.0.0",
      "model_name": "LayoutModel",
      "state": {
       "margin": "0px 0px 0px 37px",
       "width": "600px"
      }
     },
     "79a3d27b52c74b549a44ff7c21abe98f": {
      "model_module": "@jupyter-widgets/controls",
      "model_module_version": "2.0.0",
      "model_name": "HTMLStyleModel",
      "state": {
       "description_width": "",
       "font_size": null,
       "text_color": null
      }
     },
     "8a221a2843164716835914ec0622d61a": {
      "model_module": "@jupyter-widgets/controls",
      "model_module_version": "2.0.0",
      "model_name": "GridBoxModel",
      "state": {
       "children": [
        "IPY_MODEL_fc430100da1b4775955d8c51a8c6586f"
       ],
       "layout": "IPY_MODEL_d7041ae52e5e4b69af9e4b1e3f50cc56"
      }
     },
     "8ed4c4cdb54b449a89d1d08b1d584ce1": {
      "model_module": "@jupyter-widgets/controls",
      "model_module_version": "2.0.0",
      "model_name": "HTMLStyleModel",
      "state": {
       "description_width": "",
       "font_size": null,
       "text_color": null
      }
     },
     "909ab7fe4f7f4e7bb473e88c8d7df2ea": {
      "model_module": "@jupyter-widgets/controls",
      "model_module_version": "2.0.0",
      "model_name": "HTMLModel",
      "state": {
       "layout": "IPY_MODEL_111040440b7c45c18c18e6ab3947160d",
       "style": "IPY_MODEL_79a3d27b52c74b549a44ff7c21abe98f",
       "value": "<p style='font-family: IBM Plex Sans, Arial, Helvetica, sans-serif; font-size: 20px; font-weight: medium;'>Circuit Properties</p>"
      }
     },
     "98c9c984d1704f708bd660c7fc8aa772": {
      "model_module": "@jupyter-widgets/controls",
      "model_module_version": "2.0.0",
      "model_name": "HTMLStyleModel",
      "state": {
       "description_width": "",
       "font_size": null,
       "text_color": null
      }
     },
     "99c3a532cba8483e8ed03c6579923abe": {
      "model_module": "@jupyter-widgets/controls",
      "model_module_version": "2.0.0",
      "model_name": "HTMLStyleModel",
      "state": {
       "description_width": "",
       "font_size": null,
       "text_color": null
      }
     },
     "a071fe20401942e8a82219bf231ea451": {
      "model_module": "@jupyter-widgets/controls",
      "model_module_version": "2.0.0",
      "model_name": "HTMLStyleModel",
      "state": {
       "description_width": "",
       "font_size": null,
       "text_color": null
      }
     },
     "c6416575525245749478cb1f0085aadf": {
      "model_module": "@jupyter-widgets/base",
      "model_module_version": "2.0.0",
      "model_name": "LayoutModel",
      "state": {}
     },
     "d7041ae52e5e4b69af9e4b1e3f50cc56": {
      "model_module": "@jupyter-widgets/base",
      "model_module_version": "2.0.0",
      "model_name": "LayoutModel",
      "state": {
       "grid_template_areas": "\n                                       \". . . . right \"\n                                        ",
       "grid_template_columns": "20% 20% 20% 20% 20%",
       "width": "100%"
      }
     },
     "dae09ea157454d7a8f600faff60d1292": {
      "model_module": "@jupyter-widgets/controls",
      "model_module_version": "2.0.0",
      "model_name": "HTMLStyleModel",
      "state": {
       "description_width": "",
       "font_size": null,
       "text_color": null
      }
     },
     "e607886daea349949e01e29a8975d467": {
      "model_module": "@jupyter-widgets/controls",
      "model_module_version": "2.0.0",
      "model_name": "HTMLModel",
      "state": {
       "layout": "IPY_MODEL_c6416575525245749478cb1f0085aadf",
       "style": "IPY_MODEL_dae09ea157454d7a8f600faff60d1292",
       "value": "<h5>Message</h5>"
      }
     },
     "e6c9defa1a1a45929a65377fd3f8de18": {
      "model_module": "@jupyter-widgets/base",
      "model_module_version": "2.0.0",
      "model_name": "LayoutModel",
      "state": {
       "width": "145px"
      }
     },
     "fc430100da1b4775955d8c51a8c6586f": {
      "model_module": "@jupyter-widgets/controls",
      "model_module_version": "2.0.0",
      "model_name": "ButtonModel",
      "state": {
       "button_style": "primary",
       "description": "Clear",
       "layout": "IPY_MODEL_2fcc3f0a610f485792529a8c02b2f491",
       "style": "IPY_MODEL_12ad6ac6e8834211a1b4e05cb207e8b9",
       "tooltip": null
      }
     }
    },
    "version_major": 2,
    "version_minor": 0
   }
  }
 },
 "nbformat": 4,
 "nbformat_minor": 5
}
